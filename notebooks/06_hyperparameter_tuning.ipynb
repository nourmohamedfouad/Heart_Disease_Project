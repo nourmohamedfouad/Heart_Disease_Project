{
 "cells": [
  {
   "cell_type": "code",
   "execution_count": 1,
   "id": "7a2fd583",
   "metadata": {},
   "outputs": [
    {
     "name": "stdout",
     "output_type": "stream",
     "text": [
      "Best RF: {'max_depth': 5, 'min_samples_split': 2, 'n_estimators': 200}\n",
      "Best SVM: {'gamma': 'scale', 'C': np.float64(100.0)}\n",
      "RF metrics: {'accuracy': 0.9016393442622951, 'precision': 0.8666666666666667, 'recall': 0.9285714285714286, 'f1': 0.896551724137931, 'roc_auc': 0.9577922077922079}\n",
      "SVM metrics: {'accuracy': 0.8032786885245902, 'precision': 0.7666666666666667, 'recall': 0.8214285714285714, 'f1': 0.7931034482758621, 'roc_auc': 0.9047619047619048}\n",
      "Saved final model.\n"
     ]
    }
   ],
   "source": [
    "# %% [markdown]\n",
    "# 06_hyperparameter_tuning.ipynb\n",
    "# Hyperparameter tuning with GridSearchCV and RandomizedSearchCV.\n",
    "\n",
    "# %%\n",
    "import pandas as pd\n",
    "import numpy as np\n",
    "from sklearn.ensemble import RandomForestClassifier\n",
    "from sklearn.svm import SVC\n",
    "from sklearn.model_selection import GridSearchCV, RandomizedSearchCV, train_test_split\n",
    "from sklearn.metrics import accuracy_score, precision_score, recall_score, f1_score, roc_auc_score\n",
    "import joblib\n",
    "from pathlib import Path\n",
    "\n",
    "ROOT = Path(\"..\").resolve()\n",
    "\n",
    "DATA_DIR = ROOT / \"data\"\n",
    "RESULTS_DIR = ROOT / \"results\"\n",
    "MODELS_DIR = ROOT / \"models\"\n",
    "\n",
    "CLEANED_CSV = DATA_DIR / \"heart_disease_cleaned.csv\"\n",
    "df = pd.read_csv(CLEANED_CSV)\n",
    "\n",
    "X = df.drop(columns=[\"target\"])\n",
    "y = df[\"target\"]\n",
    "\n",
    "X_train, X_test, y_train, y_test = train_test_split(X, y, test_size=0.2, stratify=y, random_state=42)\n",
    "\n",
    "# Random Forest tuning\n",
    "param_grid = {\n",
    "    \"n_estimators\": [100, 200, 400],\n",
    "    \"max_depth\": [None, 5, 10, 20],\n",
    "    \"min_samples_split\": [2, 5, 10]\n",
    "}\n",
    "rf = RandomForestClassifier(random_state=42)\n",
    "gs = GridSearchCV(rf, param_grid, cv=5, scoring=\"roc_auc\", n_jobs=-1)\n",
    "gs.fit(X_train, y_train)\n",
    "best_rf = gs.best_estimator_\n",
    "print(\"Best RF:\", gs.best_params_)\n",
    "\n",
    "# SVM tuning\n",
    "param_dist = {\n",
    "    \"C\": np.logspace(-3, 2, 10),\n",
    "    \"gamma\": [\"scale\", \"auto\"]\n",
    "}\n",
    "svm = SVC(probability=True, random_state=42)\n",
    "rs = RandomizedSearchCV(svm, param_distributions=param_dist, n_iter=10, cv=5,\n",
    "                        scoring=\"roc_auc\", n_jobs=-1, random_state=42)\n",
    "rs.fit(X_train, y_train)\n",
    "best_svm = rs.best_estimator_\n",
    "print(\"Best SVM:\", rs.best_params_)\n",
    "\n",
    "def eval_model(model, X_test, y_test):\n",
    "    y_pred = model.predict(X_test)\n",
    "    y_prob = model.predict_proba(X_test)[:,1]\n",
    "    return {\n",
    "        \"accuracy\": accuracy_score(y_test, y_pred),\n",
    "        \"precision\": precision_score(y_test, y_pred),\n",
    "        \"recall\": recall_score(y_test, y_pred),\n",
    "        \"f1\": f1_score(y_test, y_pred),\n",
    "        \"roc_auc\": roc_auc_score(y_test, y_prob)\n",
    "    }\n",
    "\n",
    "rf_metrics = eval_model(best_rf, X_test, y_test)\n",
    "svm_metrics = eval_model(best_svm, X_test, y_test)\n",
    "print(\"RF metrics:\", rf_metrics)\n",
    "print(\"SVM metrics:\", svm_metrics)\n",
    "\n",
    "final_model = best_rf if rf_metrics[\"roc_auc\"] >= svm_metrics[\"roc_auc\"] else best_svm\n",
    "joblib.dump(final_model, MODELS_DIR / \"final_model.pkl\")\n",
    "print(\"Saved final model.\")\n"
   ]
  }
 ],
 "metadata": {
  "kernelspec": {
   "display_name": "Python 3",
   "language": "python",
   "name": "python3"
  },
  "language_info": {
   "codemirror_mode": {
    "name": "ipython",
    "version": 3
   },
   "file_extension": ".py",
   "mimetype": "text/x-python",
   "name": "python",
   "nbconvert_exporter": "python",
   "pygments_lexer": "ipython3",
   "version": "3.13.7"
  }
 },
 "nbformat": 4,
 "nbformat_minor": 5
}
